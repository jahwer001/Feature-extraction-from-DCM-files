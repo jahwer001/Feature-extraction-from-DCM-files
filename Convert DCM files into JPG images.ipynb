{
 "cells": [
  {
   "cell_type": "markdown",
   "id": "eb0b3abe",
   "metadata": {},
   "source": [
    "### Convert one .dcm file into a .jpg image "
   ]
  },
  {
   "cell_type": "code",
   "execution_count": null,
   "id": "c7fadcf5",
   "metadata": {},
   "outputs": [],
   "source": [
    "import os\n",
    "import pydicom\n",
    "import numpy as np\n",
    "import matplotlib.pyplot as plt\n",
    "from PIL import Image"
   ]
  },
  {
   "cell_type": "code",
   "execution_count": null,
   "id": "a0fdbf29",
   "metadata": {},
   "outputs": [],
   "source": [
    "def dcm_to_jpg(dcm_path, jpg_path):\n",
    "    dicom_image = pydicom.dcmread(dcm_path)  # Read DICOM file\n",
    "    pixel_array = dicom_image.pixel_array   # Extract image data\n",
    "\n",
    "    # Normalize pixel values (scale to 0-255)\n",
    "    pixel_array = (pixel_array - np.min(pixel_array)) / (np.max(pixel_array) - np.min(pixel_array))\n",
    "    pixel_array = (pixel_array * 255).astype(np.uint8)\n",
    "\n",
    "    # Convert to PIL image and save as JPG\n",
    "    image = Image.fromarray(pixel_array)\n",
    "    image.save(jpg_path)"
   ]
  },
  {
   "cell_type": "code",
   "execution_count": null,
   "id": "40423660",
   "metadata": {},
   "outputs": [],
   "source": [
    "dcm_file = \"C:/path of the .dcm file \"\n",
    "jpg_file = \"C:/ path to put the .jpg file /file.jpg\"\n",
    "dcm_to_jpg(dcm_file, jpg_file)\n",
    "print(\"Conversion completed!\")"
   ]
  },
  {
   "cell_type": "markdown",
   "id": "673a757d",
   "metadata": {},
   "source": [
    "### Convert .dcm folder into a .jpg folder   "
   ]
  },
  {
   "cell_type": "code",
   "execution_count": null,
   "id": "4c13b11e",
   "metadata": {},
   "outputs": [],
   "source": [
    "import os\n",
    "import pydicom\n",
    "import numpy as np\n",
    "from PIL import Image\n",
    "\n",
    "# Function to convert a single DICOM file to JPG\n",
    "def dcm_to_jpg(dcm_path, jpg_path):\n",
    "    dicom_image = pydicom.dcmread(dcm_path)  # Read DICOM file\n",
    "    pixel_array = dicom_image.pixel_array   # Extract image data\n",
    "\n",
    "    # Normalize pixel values (scale to 0-255)\n",
    "    pixel_array = (pixel_array - np.min(pixel_array)) / (np.max(pixel_array) - np.min(pixel_array))\n",
    "    pixel_array = (pixel_array * 255).astype(np.uint8)\n",
    "\n",
    "    # Convert to PIL image and save as JPG\n",
    "    image = Image.fromarray(pixel_array)\n",
    "    image.save(jpg_path)\n",
    "\n",
    "# Convert all .dcm files in a folder to .jpg\n",
    "def convert_dcm_folder(input_folder, output_folder):\n",
    "    if not os.path.exists(output_folder):  # Create output folder if not exists\n",
    "        os.makedirs(output_folder)\n",
    "\n",
    "    for filename in os.listdir(input_folder):\n",
    "        if filename.endswith(\".dcm\"):  # Process only DICOM files\n",
    "            dcm_path = os.path.join(input_folder, filename)\n",
    "            jpg_path = os.path.join(output_folder, filename.replace(\".dcm\", \".jpg\"))\n",
    "            dcm_to_jpg(dcm_path, jpg_path)\n",
    "            print(f\"Converted: {filename} -> {jpg_path}\")"
   ]
  },
  {
   "cell_type": "code",
   "execution_count": null,
   "id": "7d2039e9",
   "metadata": {},
   "outputs": [],
   "source": [
    "input_folder = \"C:/path of the .dcm folder\"  \n",
    "output_folder = \"C:/path of the .jpg folder\" \n",
    "\n",
    "convert_dcm_folder(input_folder, output_folder)\n",
    "print(\"Batch conversion completed!\")"
   ]
  },
  {
   "cell_type": "code",
   "execution_count": null,
   "id": "ba870615",
   "metadata": {},
   "outputs": [],
   "source": []
  },
  {
   "cell_type": "code",
   "execution_count": null,
   "id": "ab3fbd38",
   "metadata": {},
   "outputs": [],
   "source": []
  }
 ],
 "metadata": {
  "kernelspec": {
   "display_name": "Python 3 (ipykernel)",
   "language": "python",
   "name": "python3"
  },
  "language_info": {
   "codemirror_mode": {
    "name": "ipython",
    "version": 3
   },
   "file_extension": ".py",
   "mimetype": "text/x-python",
   "name": "python",
   "nbconvert_exporter": "python",
   "pygments_lexer": "ipython3",
   "version": "3.9.13"
  }
 },
 "nbformat": 4,
 "nbformat_minor": 5
}
