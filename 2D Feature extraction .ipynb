{
 "cells": [
  {
   "cell_type": "markdown",
   "id": "0db57d18",
   "metadata": {},
   "source": [
    "### You can change the pretrained model as you like (VGG19, RESNET50, EFFINETB0,....) "
   ]
  },
  {
   "cell_type": "code",
   "execution_count": null,
   "id": "8200441e",
   "metadata": {},
   "outputs": [],
   "source": [
    "from tensorflow.keras.applications import VGG16\n",
    "from tensorflow.keras.applications.vgg16 import preprocess_input\n",
    "from tensorflow.keras.preprocessing.image import img_to_array\n",
    "from tensorflow.keras.models import Model\n",
    "from PIL import Image\n",
    "import numpy as np\n",
    "import os\n",
    "\n",
    "# Load VGG16 without top\n",
    "base_model = VGG16(weights='imagenet', include_top=False, input_shape=(224, 224, 3))\n",
    "model = Model(inputs=base_model.input, outputs=base_model.output)\n",
    "\n",
    "def extract_flat_features(folder_path, label):\n",
    "    features = []\n",
    "    labels = []\n",
    "\n",
    "    for img_name in os.listdir(folder_path):\n",
    "        if img_name.endswith('.jpg'):\n",
    "            img_path = os.path.join(folder_path, img_name)\n",
    "            img = Image.open(img_path).convert('RGB').resize((224, 224))\n",
    "            img_array = img_to_array(img)\n",
    "            img_array = np.expand_dims(img_array, axis=0)\n",
    "            img_array = preprocess_input(img_array)\n",
    "\n",
    "            feature_map = model.predict(img_array)  # (1, 7, 7, 512)\n",
    "            flat_feature = feature_map.flatten()    # Flatten to 25088\n",
    "            features.append(flat_feature)\n",
    "            labels.append(label)\n",
    "\n",
    "    return features, labels\n"
   ]
  },
  {
   "cell_type": "code",
   "execution_count": null,
   "id": "8e5808c2",
   "metadata": {},
   "outputs": [],
   "source": [
    "X_benign, y_benign = extract_flat_features('C:/path', 0)\n",
    "X_malignant, y_malignant = extract_flat_features('C:/path', 1)\n",
    "\n",
    "X = np.array(X_benign + X_malignant)\n",
    "y = np.array(y_benign + y_malignant)"
   ]
  },
  {
   "cell_type": "markdown",
   "id": "bd321826",
   "metadata": {},
   "source": [
    "#### Now you can use the arrays in any machine learnig model (KNN, SVM, Random forest,...) "
   ]
  }
 ],
 "metadata": {
  "kernelspec": {
   "display_name": "Python 3 (ipykernel)",
   "language": "python",
   "name": "python3"
  },
  "language_info": {
   "codemirror_mode": {
    "name": "ipython",
    "version": 3
   },
   "file_extension": ".py",
   "mimetype": "text/x-python",
   "name": "python",
   "nbconvert_exporter": "python",
   "pygments_lexer": "ipython3",
   "version": "3.9.13"
  }
 },
 "nbformat": 4,
 "nbformat_minor": 5
}
