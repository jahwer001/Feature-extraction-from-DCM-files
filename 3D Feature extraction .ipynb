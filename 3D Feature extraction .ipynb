{
 "cells": [
  {
   "cell_type": "markdown",
   "id": "949b616e",
   "metadata": {},
   "source": [
    "### You can change the pretrained model as you like (VGG19, RESNET50, EFFINETB0,....)"
   ]
  },
  {
   "cell_type": "markdown",
   "id": "de40b6ba",
   "metadata": {},
   "source": [
    "## First Methode "
   ]
  },
  {
   "cell_type": "code",
   "execution_count": null,
   "id": "b1408b68",
   "metadata": {},
   "outputs": [],
   "source": [
    "import os\n",
    "import numpy as np\n",
    "from PIL import Image\n",
    "from tensorflow.keras.applications.vgg16 import VGG16, preprocess_input\n",
    "from tensorflow.keras.preprocessing.image import img_to_array\n",
    "from tensorflow.keras.models import Model"
   ]
  },
  {
   "cell_type": "code",
   "execution_count": null,
   "id": "89d64975",
   "metadata": {},
   "outputs": [],
   "source": [
    "base_model = VGG16(weights='imagenet', include_top=False, input_shape=(224, 224, 3))\n",
    "model = Model(inputs=base_model.input, outputs=base_model.output)\n",
    "\n",
    "def extract_features(directory, label):\n",
    "    features = []\n",
    "    labels = []\n",
    "    for file in os.listdir(directory):\n",
    "        if file.endswith('.jpg'):\n",
    "            img_path = os.path.join(directory, file)\n",
    "            img = Image.open(img_path).convert('RGB').resize((224, 224))\n",
    "            img_array = img_to_array(img)\n",
    "            img_array = np.expand_dims(img_array, axis=0)\n",
    "            img_array = preprocess_input(img_array)  # VGG-specific preprocessing\n",
    "\n",
    "            feature = model.predict(img_array)\n",
    "            features.append(feature.flatten())  # Flatten the conv output\n",
    "            labels.append(label)\n",
    "    return features, labels\n",
    "\n",
    "benign_features, benign_labels = extract_features('C:/path', 0)\n",
    "malignant_features, malignant_labels = extract_features('C:/path', 1)\n",
    "# Combine and create dataset\n",
    "X = np.array(benign_features + malignant_features)\n",
    "y = np.array(benign_labels + malignant_labels)"
   ]
  },
  {
   "cell_type": "code",
   "execution_count": null,
   "id": "31092e23",
   "metadata": {},
   "outputs": [],
   "source": [
    "X"
   ]
  },
  {
   "cell_type": "code",
   "execution_count": null,
   "id": "1de8bf49",
   "metadata": {},
   "outputs": [],
   "source": [
    "y"
   ]
  },
  {
   "cell_type": "code",
   "execution_count": null,
   "id": "fcb8060b",
   "metadata": {},
   "outputs": [],
   "source": []
  },
  {
   "cell_type": "markdown",
   "id": "d36bdf93",
   "metadata": {},
   "source": [
    "## Second Methode"
   ]
  },
  {
   "cell_type": "code",
   "execution_count": null,
   "id": "2b2c73f7",
   "metadata": {},
   "outputs": [],
   "source": [
    "from tensorflow.keras.applications import VGG16\n",
    "from tensorflow.keras.applications.vgg16 import preprocess_input\n",
    "from tensorflow.keras.preprocessing.image import img_to_array\n",
    "from tensorflow.keras.models import Model\n",
    "from tensorflow.keras.utils import to_categorical\n",
    "import numpy as np\n",
    "import os\n",
    "from PIL import Image\n",
    "\n",
    "# Load pre-trained VGG16 (exclude classifier)\n",
    "base_model = VGG16(weights='imagenet', include_top=False, input_shape=(224, 224, 3))\n",
    "model = Model(inputs=base_model.input, outputs=base_model.output)\n",
    "\n",
    "def extract_sequence_features(folder_path, label):\n",
    "    features = []\n",
    "    labels = []\n",
    "\n",
    "    for img_file in os.listdir(folder_path):\n",
    "        if img_file.endswith('.jpg'):\n",
    "            path = os.path.join(folder_path, img_file)\n",
    "            img = Image.open(path).convert('RGB').resize((224, 224))\n",
    "            img_array = img_to_array(img)\n",
    "            img_array = np.expand_dims(img_array, axis=0)\n",
    "            img_array = preprocess_input(img_array)\n",
    "\n",
    "            # Shape: (1, 7, 7, 512)\n",
    "            feature = model.predict(img_array)\n",
    "            feature_seq = feature.reshape(49, 512)  # Convert (7x7, 512) into 49 steps\n",
    "            features.append(feature_seq)\n",
    "            labels.append(label)\n",
    "\n",
    "    return features, labels"
   ]
  },
  {
   "cell_type": "code",
   "execution_count": null,
   "id": "21b6c3af",
   "metadata": {},
   "outputs": [],
   "source": [
    "X_benign, y_benign = extract_sequence_features('C:/path', 0)\n",
    "X_malignant, y_malignant = extract_sequence_features('C:/path', 1)\n",
    "\n",
    "X1 = np.array(X_benign + X_malignant)  # shape: (samples, 49, 512)\n",
    "y1 = np.array(y_benign + y_malignant)"
   ]
  },
  {
   "cell_type": "code",
   "execution_count": null,
   "id": "d5411390",
   "metadata": {},
   "outputs": [],
   "source": [
    "X1"
   ]
  },
  {
   "cell_type": "code",
   "execution_count": null,
   "id": "692481b5",
   "metadata": {},
   "outputs": [],
   "source": [
    "y1"
   ]
  },
  {
   "cell_type": "markdown",
   "id": "9c2c644e",
   "metadata": {},
   "source": [
    "#### Now you can use the arrays in any deep learnig model (CNN, LSTM, BILSTM, RNN, GRU,...) "
   ]
  },
  {
   "cell_type": "code",
   "execution_count": null,
   "id": "fbd9e269",
   "metadata": {},
   "outputs": [],
   "source": []
  }
 ],
 "metadata": {
  "kernelspec": {
   "display_name": "Python 3 (ipykernel)",
   "language": "python",
   "name": "python3"
  },
  "language_info": {
   "codemirror_mode": {
    "name": "ipython",
    "version": 3
   },
   "file_extension": ".py",
   "mimetype": "text/x-python",
   "name": "python",
   "nbconvert_exporter": "python",
   "pygments_lexer": "ipython3",
   "version": "3.9.13"
  }
 },
 "nbformat": 4,
 "nbformat_minor": 5
}
